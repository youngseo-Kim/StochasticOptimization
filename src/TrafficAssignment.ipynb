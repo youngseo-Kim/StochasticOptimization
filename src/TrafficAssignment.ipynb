{
 "cells": [
  {
   "cell_type": "code",
   "execution_count": 29,
   "metadata": {},
   "outputs": [
    {
     "data": {
      "text/plain": [
       "76-element Vector{Tuple{Int64, Int64}}:\n",
       " (1, 2)\n",
       " (1, 3)\n",
       " (2, 1)\n",
       " (2, 6)\n",
       " (3, 1)\n",
       " (3, 4)\n",
       " (3, 12)\n",
       " (4, 3)\n",
       " (4, 5)\n",
       " (4, 11)\n",
       " (5, 4)\n",
       " (5, 6)\n",
       " (5, 9)\n",
       " ⋮\n",
       " (21, 22)\n",
       " (21, 24)\n",
       " (22, 15)\n",
       " (22, 20)\n",
       " (22, 21)\n",
       " (22, 23)\n",
       " (23, 14)\n",
       " (23, 22)\n",
       " (23, 24)\n",
       " (24, 13)\n",
       " (24, 21)\n",
       " (24, 23)"
      ]
     },
     "execution_count": 29,
     "metadata": {},
     "output_type": "execute_result"
    }
   ],
   "source": [
    "using CSV\n",
    "using DataFrames\n",
    "\n",
    "network_df = CSV.read(\"../SiouxFalls/SiouxFalls_net.txt\", DataFrame; delim='\\t')\n",
    "network_df = select(network_df, Not(:Column1))\n",
    "node_df = CSV.read(\"../SiouxFalls/SiouxFalls_node.txt\", DataFrame; delim='\\t')\n",
    "node_df = select(node_df, Not(\";\"))\n",
    "od_df = CSV.read(\"../SiouxFalls/SiouxFalls_od.csv\", DataFrame)\n",
    "\n",
    "od = [(row.O, row.D) for row in eachrow(od_df)] \n",
    "road_link = [(row.init_node, row.term_node, row.length) for row in eachrow(network_df)]\n",
    "arcs = [(row.init_node, row.term_node) for row in eachrow(network_df)]\n"
   ]
  },
  {
   "cell_type": "code",
   "execution_count": null,
   "metadata": {},
   "outputs": [],
   "source": []
  },
  {
   "cell_type": "code",
   "execution_count": null,
   "metadata": {},
   "outputs": [],
   "source": []
  }
 ],
 "metadata": {
  "kernelspec": {
   "display_name": "Julia 1.10.0",
   "language": "julia",
   "name": "julia-1.10"
  },
  "language_info": {
   "file_extension": ".jl",
   "mimetype": "application/julia",
   "name": "julia",
   "version": "1.10.0"
  }
 },
 "nbformat": 4,
 "nbformat_minor": 2
}
