{
 "cells": [
  {
   "cell_type": "code",
   "execution_count": 99,
   "metadata": {},
   "outputs": [
    {
     "data": {
      "text/plain": [
       "76-element Vector{Tuple{Int64, Int64}}:\n",
       " (1, 2)\n",
       " (1, 3)\n",
       " (2, 1)\n",
       " (2, 6)\n",
       " (3, 1)\n",
       " (3, 4)\n",
       " (3, 12)\n",
       " (4, 3)\n",
       " (4, 5)\n",
       " (4, 11)\n",
       " (5, 4)\n",
       " (5, 6)\n",
       " (5, 9)\n",
       " ⋮\n",
       " (21, 22)\n",
       " (21, 24)\n",
       " (22, 15)\n",
       " (22, 20)\n",
       " (22, 21)\n",
       " (22, 23)\n",
       " (23, 14)\n",
       " (23, 22)\n",
       " (23, 24)\n",
       " (24, 13)\n",
       " (24, 21)\n",
       " (24, 23)"
      ]
     },
     "execution_count": 99,
     "metadata": {},
     "output_type": "execute_result"
    }
   ],
   "source": [
    "using CSV\n",
    "using DataFrames\n",
    "using LinearAlgebra\n",
    "\n",
    "\n",
    "network_df = CSV.read(\"../SiouxFalls/SiouxFalls_net.txt\", DataFrame; delim='\\t')\n",
    "network_df = select(network_df, Not(:Column1))\n",
    "node_df = CSV.read(\"../SiouxFalls/SiouxFalls_node.txt\", DataFrame; delim='\\t')\n",
    "node_df = select(node_df, Not(\";\"))\n",
    "od_df = CSV.read(\"../SiouxFalls/SiouxFalls_od.csv\", DataFrame)\n",
    "\n",
    "ods = [(row.O, row.D) for row in eachrow(od_df)] \n",
    "road_link = [(row.init_node, row.term_node, row.length) for row in eachrow(network_df)]\n",
    "A = [(row.init_node, row.term_node) for row in eachrow(network_df)] #arcs\n"
   ]
  },
  {
   "cell_type": "code",
   "execution_count": 103,
   "metadata": {},
   "outputs": [
    {
     "data": {
      "text/plain": [
       "24-element Vector{Int64}:\n",
       "  1\n",
       "  2\n",
       "  3\n",
       "  4\n",
       "  5\n",
       "  6\n",
       "  7\n",
       "  8\n",
       "  9\n",
       " 10\n",
       " 11\n",
       " 12\n",
       " 13\n",
       " 14\n",
       " 15\n",
       " 16\n",
       " 17\n",
       " 18\n",
       " 19\n",
       " 20\n",
       " 21\n",
       " 22\n",
       " 23\n",
       " 24"
      ]
     },
     "execution_count": 103,
     "metadata": {},
     "output_type": "execute_result"
    }
   ],
   "source": [
    "O = unique(od_df[!, :O])\n",
    "D = unique(od_df[!, :D])"
   ]
  },
  {
   "cell_type": "code",
   "execution_count": 125,
   "metadata": {},
   "outputs": [
    {
     "data": {
      "text/html": [
       "<div><div style = \"float: left;\"><span>528×3 DataFrame</span></div><div style = \"float: right;\"><span style = \"font-style: italic;\">503 rows omitted</span></div><div style = \"clear: both;\"></div></div><div class = \"data-frame\" style = \"overflow-x: scroll;\"><table class = \"data-frame\" style = \"margin-bottom: 6px;\"><thead><tr class = \"header\"><th class = \"rowNumber\" style = \"font-weight: bold; text-align: right;\">Row</th><th style = \"text-align: left;\">O</th><th style = \"text-align: left;\">D</th><th style = \"text-align: left;\">Ton</th></tr><tr class = \"subheader headerLastRow\"><th class = \"rowNumber\" style = \"font-weight: bold; text-align: right;\"></th><th title = \"Int64\" style = \"text-align: left;\">Int64</th><th title = \"Int64\" style = \"text-align: left;\">Int64</th><th title = \"Float64\" style = \"text-align: left;\">Float64</th></tr></thead><tbody><tr><td class = \"rowNumber\" style = \"font-weight: bold; text-align: right;\">1</td><td style = \"text-align: right;\">2</td><td style = \"text-align: right;\">1</td><td style = \"text-align: right;\">100.0</td></tr><tr><td class = \"rowNumber\" style = \"font-weight: bold; text-align: right;\">2</td><td style = \"text-align: right;\">3</td><td style = \"text-align: right;\">1</td><td style = \"text-align: right;\">100.0</td></tr><tr><td class = \"rowNumber\" style = \"font-weight: bold; text-align: right;\">3</td><td style = \"text-align: right;\">4</td><td style = \"text-align: right;\">1</td><td style = \"text-align: right;\">500.0</td></tr><tr><td class = \"rowNumber\" style = \"font-weight: bold; text-align: right;\">4</td><td style = \"text-align: right;\">5</td><td style = \"text-align: right;\">1</td><td style = \"text-align: right;\">200.0</td></tr><tr><td class = \"rowNumber\" style = \"font-weight: bold; text-align: right;\">5</td><td style = \"text-align: right;\">6</td><td style = \"text-align: right;\">1</td><td style = \"text-align: right;\">300.0</td></tr><tr><td class = \"rowNumber\" style = \"font-weight: bold; text-align: right;\">6</td><td style = \"text-align: right;\">7</td><td style = \"text-align: right;\">1</td><td style = \"text-align: right;\">500.0</td></tr><tr><td class = \"rowNumber\" style = \"font-weight: bold; text-align: right;\">7</td><td style = \"text-align: right;\">8</td><td style = \"text-align: right;\">1</td><td style = \"text-align: right;\">800.0</td></tr><tr><td class = \"rowNumber\" style = \"font-weight: bold; text-align: right;\">8</td><td style = \"text-align: right;\">9</td><td style = \"text-align: right;\">1</td><td style = \"text-align: right;\">500.0</td></tr><tr><td class = \"rowNumber\" style = \"font-weight: bold; text-align: right;\">9</td><td style = \"text-align: right;\">10</td><td style = \"text-align: right;\">1</td><td style = \"text-align: right;\">1300.0</td></tr><tr><td class = \"rowNumber\" style = \"font-weight: bold; text-align: right;\">10</td><td style = \"text-align: right;\">11</td><td style = \"text-align: right;\">1</td><td style = \"text-align: right;\">500.0</td></tr><tr><td class = \"rowNumber\" style = \"font-weight: bold; text-align: right;\">11</td><td style = \"text-align: right;\">12</td><td style = \"text-align: right;\">1</td><td style = \"text-align: right;\">200.0</td></tr><tr><td class = \"rowNumber\" style = \"font-weight: bold; text-align: right;\">12</td><td style = \"text-align: right;\">13</td><td style = \"text-align: right;\">1</td><td style = \"text-align: right;\">500.0</td></tr><tr><td class = \"rowNumber\" style = \"font-weight: bold; text-align: right;\">13</td><td style = \"text-align: right;\">14</td><td style = \"text-align: right;\">1</td><td style = \"text-align: right;\">300.0</td></tr><tr><td style = \"text-align: right;\">&vellip;</td><td style = \"text-align: right;\">&vellip;</td><td style = \"text-align: right;\">&vellip;</td><td style = \"text-align: right;\">&vellip;</td></tr><tr><td class = \"rowNumber\" style = \"font-weight: bold; text-align: right;\">517</td><td style = \"text-align: right;\">11</td><td style = \"text-align: right;\">24</td><td style = \"text-align: right;\">600.0</td></tr><tr><td class = \"rowNumber\" style = \"font-weight: bold; text-align: right;\">518</td><td style = \"text-align: right;\">12</td><td style = \"text-align: right;\">24</td><td style = \"text-align: right;\">500.0</td></tr><tr><td class = \"rowNumber\" style = \"font-weight: bold; text-align: right;\">519</td><td style = \"text-align: right;\">13</td><td style = \"text-align: right;\">24</td><td style = \"text-align: right;\">700.0</td></tr><tr><td class = \"rowNumber\" style = \"font-weight: bold; text-align: right;\">520</td><td style = \"text-align: right;\">14</td><td style = \"text-align: right;\">24</td><td style = \"text-align: right;\">400.0</td></tr><tr><td class = \"rowNumber\" style = \"font-weight: bold; text-align: right;\">521</td><td style = \"text-align: right;\">15</td><td style = \"text-align: right;\">24</td><td style = \"text-align: right;\">400.0</td></tr><tr><td class = \"rowNumber\" style = \"font-weight: bold; text-align: right;\">522</td><td style = \"text-align: right;\">16</td><td style = \"text-align: right;\">24</td><td style = \"text-align: right;\">300.0</td></tr><tr><td class = \"rowNumber\" style = \"font-weight: bold; text-align: right;\">523</td><td style = \"text-align: right;\">17</td><td style = \"text-align: right;\">24</td><td style = \"text-align: right;\">300.0</td></tr><tr><td class = \"rowNumber\" style = \"font-weight: bold; text-align: right;\">524</td><td style = \"text-align: right;\">19</td><td style = \"text-align: right;\">24</td><td style = \"text-align: right;\">100.0</td></tr><tr><td class = \"rowNumber\" style = \"font-weight: bold; text-align: right;\">525</td><td style = \"text-align: right;\">20</td><td style = \"text-align: right;\">24</td><td style = \"text-align: right;\">400.0</td></tr><tr><td class = \"rowNumber\" style = \"font-weight: bold; text-align: right;\">526</td><td style = \"text-align: right;\">21</td><td style = \"text-align: right;\">24</td><td style = \"text-align: right;\">500.0</td></tr><tr><td class = \"rowNumber\" style = \"font-weight: bold; text-align: right;\">527</td><td style = \"text-align: right;\">22</td><td style = \"text-align: right;\">24</td><td style = \"text-align: right;\">1100.0</td></tr><tr><td class = \"rowNumber\" style = \"font-weight: bold; text-align: right;\">528</td><td style = \"text-align: right;\">23</td><td style = \"text-align: right;\">24</td><td style = \"text-align: right;\">700.0</td></tr></tbody></table></div>"
      ],
      "text/latex": [
       "\\begin{tabular}{r|ccc}\n",
       "\t& O & D & Ton\\\\\n",
       "\t\\hline\n",
       "\t& Int64 & Int64 & Float64\\\\\n",
       "\t\\hline\n",
       "\t1 & 2 & 1 & 100.0 \\\\\n",
       "\t2 & 3 & 1 & 100.0 \\\\\n",
       "\t3 & 4 & 1 & 500.0 \\\\\n",
       "\t4 & 5 & 1 & 200.0 \\\\\n",
       "\t5 & 6 & 1 & 300.0 \\\\\n",
       "\t6 & 7 & 1 & 500.0 \\\\\n",
       "\t7 & 8 & 1 & 800.0 \\\\\n",
       "\t8 & 9 & 1 & 500.0 \\\\\n",
       "\t9 & 10 & 1 & 1300.0 \\\\\n",
       "\t10 & 11 & 1 & 500.0 \\\\\n",
       "\t11 & 12 & 1 & 200.0 \\\\\n",
       "\t12 & 13 & 1 & 500.0 \\\\\n",
       "\t13 & 14 & 1 & 300.0 \\\\\n",
       "\t14 & 15 & 1 & 500.0 \\\\\n",
       "\t15 & 16 & 1 & 500.0 \\\\\n",
       "\t16 & 17 & 1 & 400.0 \\\\\n",
       "\t17 & 18 & 1 & 100.0 \\\\\n",
       "\t18 & 19 & 1 & 300.0 \\\\\n",
       "\t19 & 20 & 1 & 300.0 \\\\\n",
       "\t20 & 21 & 1 & 100.0 \\\\\n",
       "\t21 & 22 & 1 & 400.0 \\\\\n",
       "\t22 & 23 & 1 & 300.0 \\\\\n",
       "\t23 & 24 & 1 & 100.0 \\\\\n",
       "\t24 & 1 & 2 & 100.0 \\\\\n",
       "\t25 & 3 & 2 & 100.0 \\\\\n",
       "\t26 & 4 & 2 & 200.0 \\\\\n",
       "\t27 & 5 & 2 & 100.0 \\\\\n",
       "\t28 & 6 & 2 & 400.0 \\\\\n",
       "\t29 & 7 & 2 & 200.0 \\\\\n",
       "\t30 & 8 & 2 & 400.0 \\\\\n",
       "\t$\\dots$ & $\\dots$ & $\\dots$ & $\\dots$ \\\\\n",
       "\\end{tabular}\n"
      ],
      "text/plain": [
       "\u001b[1m528×3 DataFrame\u001b[0m\n",
       "\u001b[1m Row \u001b[0m│\u001b[1m O     \u001b[0m\u001b[1m D     \u001b[0m\u001b[1m Ton     \u001b[0m\n",
       "     │\u001b[90m Int64 \u001b[0m\u001b[90m Int64 \u001b[0m\u001b[90m Float64 \u001b[0m\n",
       "─────┼───────────────────────\n",
       "   1 │     2      1    100.0\n",
       "   2 │     3      1    100.0\n",
       "   3 │     4      1    500.0\n",
       "   4 │     5      1    200.0\n",
       "   5 │     6      1    300.0\n",
       "   6 │     7      1    500.0\n",
       "   7 │     8      1    800.0\n",
       "   8 │     9      1    500.0\n",
       "   9 │    10      1   1300.0\n",
       "  10 │    11      1    500.0\n",
       "  11 │    12      1    200.0\n",
       "  ⋮  │   ⋮      ⋮       ⋮\n",
       " 519 │    13     24    700.0\n",
       " 520 │    14     24    400.0\n",
       " 521 │    15     24    400.0\n",
       " 522 │    16     24    300.0\n",
       " 523 │    17     24    300.0\n",
       " 524 │    19     24    100.0\n",
       " 525 │    20     24    400.0\n",
       " 526 │    21     24    500.0\n",
       " 527 │    22     24   1100.0\n",
       " 528 │    23     24    700.0\n",
       "\u001b[36m             507 rows omitted\u001b[0m"
      ]
     },
     "execution_count": 125,
     "metadata": {},
     "output_type": "execute_result"
    }
   ],
   "source": []
  },
  {
   "cell_type": "code",
   "execution_count": 126,
   "metadata": {},
   "outputs": [
    {
     "data": {
      "text/plain": [
       "3"
      ]
     },
     "execution_count": 126,
     "metadata": {},
     "output_type": "execute_result"
    }
   ],
   "source": [
    "alpha = 0.15\n",
    "beta = 4\n",
    "t0_a = Dict((row.init_node, row.term_node) => row.free_flow_time for row in eachrow(network_df))\n",
    "c_a = Dict((row.init_node, row.term_node) => row.capacity for row in eachrow(network_df))\n",
    "\n",
    "d_od = Dict((row.O, row.D) => row.Ton for row in eachrow(od_df))\n",
    "\n",
    "\n",
    "n_routes = 3\n"
   ]
  },
  {
   "cell_type": "code",
   "execution_count": 130,
   "metadata": {},
   "outputs": [
    {
     "data": {
      "text/plain": [
       "Dict{Any, Any} with 528 entries:\n",
       "  (18, 16) => Dict{Any, Any}(0=>[18, 16])\n",
       "  (16, 14) => Dict{Any, Any}(0=>[16, 17, 19, 15, 14], 1=>[16, 10, 11, 14])\n",
       "  (11, 17) => Dict{Any, Any}(0=>[11, 10, 16, 17], 2=>[11, 10, 17], 1=>[11, 14, …\n",
       "  (24, 15) => Dict{Any, Any}(0=>[24, 21, 22, 15], 2=>[24, 23, 14, 15], 1=>[24, …\n",
       "  (17, 12) => Dict{Any, Any}(0=>[17, 16, 10, 11, 12], 2=>[17, 16, 8, 6, 5, 4, 3…\n",
       "  (8, 15)  => Dict{Any, Any}(0=>[8, 16, 17, 19, 15], 2=>[8, 16, 10, 15], 1=>[8,…\n",
       "  (19, 14) => Dict{Any, Any}(0=>[19, 15, 14], 1=>[19, 17, 16, 10, 11, 14])\n",
       "  (7, 18)  => Dict{Any, Any}(0=>[7, 18])\n",
       "  (7, 8)   => Dict{Any, Any}(0=>[7, 8])\n",
       "  (14, 15) => Dict{Any, Any}(0=>[14, 15], 1=>[14, 23, 22, 15])\n",
       "  (15, 23) => Dict{Any, Any}(0=>[15, 22, 23], 1=>[15, 14, 23])\n",
       "  (1, 9)   => Dict{Any, Any}(0=>[1, 3, 4, 5, 9], 2=>[1, 3, 12, 11, 10, 9], 1=>[…\n",
       "  (19, 16) => Dict{Any, Any}(0=>[19, 17, 16])\n",
       "  (22, 9)  => Dict{Any, Any}(0=>[22, 15, 10, 9], 1=>[22, 20, 18, 16, 10, 9])\n",
       "  (7, 24)  => Dict{Any, Any}(0=>[7, 18, 20, 21, 24], 2=>[7, 18, 16, 17, 19, 15,…\n",
       "  (2, 17)  => Dict{Any, Any}(0=>[2, 6, 8, 16, 17], 1=>[2, 6, 8, 7, 18, 16, 17])\n",
       "  (10, 17) => Dict{Any, Any}(0=>[10, 16, 17], 1=>[10, 17])\n",
       "  (18, 8)  => Dict{Any, Any}(0=>[18, 7, 8], 1=>[18, 16, 8])\n",
       "  (15, 12) => Dict{Any, Any}(0=>[15, 14, 11, 12], 2=>[15, 10, 11, 12], 1=>[15, …\n",
       "  (20, 17) => Dict{Any, Any}(0=>[20, 19, 17], 1=>[20, 18, 16, 17])\n",
       "  (21, 4)  => Dict{Any, Any}(0=>[21, 24, 13, 12, 3, 4], 2=>[21, 20, 18, 7, 8, 6…\n",
       "  (16, 8)  => Dict{Any, Any}(0=>[16, 8], 1=>[16, 18, 7, 8])\n",
       "  (21, 13) => Dict{Any, Any}(0=>[21, 24, 13])\n",
       "  (16, 18) => Dict{Any, Any}(0=>[16, 18])\n",
       "  (17, 19) => Dict{Any, Any}(0=>[17, 19])\n",
       "  ⋮        => ⋮"
      ]
     },
     "execution_count": 130,
     "metadata": {},
     "output_type": "execute_result"
    }
   ],
   "source": [
    "using Pandas: read_pickle\n",
    "P = read_pickle(\"../SiouxFalls/OD_route.pickle\")"
   ]
  },
  {
   "cell_type": "code",
   "execution_count": 131,
   "metadata": {},
   "outputs": [
    {
     "data": {
      "text/plain": [
       "PyObject <function is_continuous_subsequence at 0x7f3857b80560>"
      ]
     },
     "execution_count": 131,
     "metadata": {},
     "output_type": "execute_result"
    }
   ],
   "source": [
    "py\"\"\"\n",
    "def is_continuous_subsequence(my_tuple, my_list):\n",
    "    tuple_length = len(my_tuple)\n",
    "    list_length = len(my_list)\n",
    "    \n",
    "    for i in range(0, list_length - tuple_length + 1):\n",
    "        if tuple(my_list[i:i+tuple_length]) == my_tuple:\n",
    "            return True\n",
    "    return False\n",
    "\n",
    "\"\"\"\n",
    "\n",
    "# Access the Python function as if it were a Julia function\n",
    "is_continuous_subsequence = py\"is_continuous_subsequence\"\n"
   ]
  },
  {
   "cell_type": "code",
   "execution_count": 148,
   "metadata": {},
   "outputs": [
    {
     "name": "stdout",
     "output_type": "stream",
     "text": [
      "Problem\n",
      "  Name                   :                 \n",
      "  Objective sense        : minimize        \n",
      "  Type                   : CONIC (conic optimization problem)\n",
      "  Constraints            : 604             \n",
      "  Affine conic cons.     : 228 (684 rows)\n",
      "  Disjunctive cons.      : 0               \n",
      "  Cones                  : 0               \n",
      "  Scalar variables       : 1455            \n",
      "  Matrix variables       : 0               \n",
      "  Integer variables      : 0               \n",
      "\n",
      "Optimizer started.\n",
      "Presolve started.\n",
      "Linear dependency checker started.\n",
      "Linear dependency checker terminated.\n",
      "Eliminator started.\n",
      "Freed constraints in eliminator : 241\n",
      "Eliminator terminated.\n",
      "Eliminator started.\n",
      "Freed constraints in eliminator : 0\n",
      "Eliminator terminated.\n",
      "Eliminator - tries                  : 2                 time                   : 0.00            \n",
      "Lin. dep.  - tries                  : 1                 time                   : 0.00            \n",
      "Lin. dep.  - primal attempts        : 1                 successes              : 1               \n",
      "Lin. dep.  - dual attempts          : 0                 successes              : 0               \n",
      "Lin. dep.  - primal deps.           : 0                 dual deps.             : 0               \n",
      "Presolve terminated. Time: 0.00    \n",
      "Optimizer  - threads                : 16              \n",
      "Optimizer  - solved problem         : the primal      \n",
      "Optimizer  - Constraints            : 723             \n",
      "Optimizer  - Cones                  : 228             \n",
      "Optimizer  - Scalar variables       : 1518              conic                  : 684             \n",
      "Optimizer  - Semi-definite variables: 0                 scalarized             : 0               \n",
      "Factor     - setup time             : 0.00            \n",
      "Factor     - dense det. time        : 0.00              GP order time          : 0.00            \n",
      "Factor     - nonzeros before factor : 6352              after factor           : 7327            \n",
      "Factor     - dense dim.             : 0                 flops                  : 2.24e+05        \n",
      "ITE PFEAS    DFEAS    GFEAS    PRSTATUS   POBJ              DOBJ              MU       TIME  \n",
      "0   6.6e+00  4.0e+00  1.6e+02  0.00e+00   1.570000000e+02   0.000000000e+00   1.0e+00  0.01  \n",
      "1   1.9e+00  1.1e+00  8.4e+01  -9.97e-01  4.272977603e+02   2.736268331e+02   2.9e-01  0.01  \n",
      "2   7.1e-01  4.3e-01  4.9e+01  -9.61e-01  1.409774058e+03   1.269336112e+03   1.1e-01  0.01  \n",
      "3   2.4e-01  1.5e-01  2.8e+01  -8.84e-01  4.231500277e+03   4.105384873e+03   3.7e-02  0.01  \n",
      "4   2.2e-02  1.3e-02  8.5e+00  -9.93e-01  5.043584899e+04   5.055312091e+04   3.3e-03  0.01  \n",
      "5   5.7e-03  3.4e-03  4.1e+00  -9.60e-01  1.853527896e+05   1.861343842e+05   8.6e-04  0.01  \n",
      "6   2.1e-03  1.3e-03  2.3e+00  -8.63e-01  4.778867059e+05   4.798338316e+05   3.2e-04  0.02  \n",
      "7   8.8e-04  5.4e-04  1.2e+00  -6.74e-01  1.044303434e+06   1.047246772e+06   1.3e-04  0.02  \n",
      "8   4.5e-04  2.8e-04  5.3e-01  -2.01e-01  1.810500419e+06   1.812764842e+06   6.9e-05  0.02  \n",
      "9   2.6e-04  1.6e-04  2.1e-01  5.40e-01   2.431383460e+06   2.432485474e+06   4.0e-05  0.02  \n",
      "10  1.4e-04  8.2e-05  7.6e-02  8.92e-01   2.826781421e+06   2.827307035e+06   2.1e-05  0.02  \n",
      "11  4.5e-05  2.7e-05  1.5e-02  1.00e+00   3.079109716e+06   3.079284359e+06   6.8e-06  0.02  \n",
      "12  1.9e-05  1.1e-05  4.0e-03  1.01e+00   3.137955850e+06   3.138032549e+06   2.8e-06  0.02  \n",
      "13  3.6e-06  2.2e-06  3.5e-04  1.01e+00   3.169288463e+06   3.169304046e+06   5.5e-07  0.02  \n",
      "14  1.5e-07  9.2e-08  3.1e-06  1.00e+00   3.175741538e+06   3.175742230e+06   2.3e-08  0.03  \n",
      "15  4.4e-08  2.7e-08  4.8e-07  1.01e+00   3.175934199e+06   3.175934403e+06   6.7e-09  0.03  \n",
      "16  2.4e-08  1.5e-08  1.9e-07  1.02e+00   3.175968058e+06   3.175968168e+06   3.6e-09  0.03  \n",
      "17  4.1e-09  2.5e-09  1.4e-08  1.02e+00   3.175998384e+06   3.175998402e+06   6.3e-10  0.03  \n",
      "18  1.4e-09  6.0e-10  1.6e-09  1.03e+00   3.176002372e+06   3.176002377e+06   1.5e-10  0.03  \n",
      "19  4.1e-10  1.7e-10  2.5e-10  1.01e+00   3.176003238e+06   3.176003239e+06   4.3e-11  0.03  \n",
      "20  9.5e-11  4.0e-11  2.8e-11  1.00e+00   3.176003499e+06   3.176003500e+06   1.0e-11  0.04  \n",
      "21  2.2e-11  9.3e-12  3.1e-12  1.00e+00   3.176003560e+06   3.176003560e+06   2.3e-12  0.04  \n",
      "22  5.7e-12  2.4e-12  4.1e-13  1.00e+00   3.176003573e+06   3.176003573e+06   6.1e-13  0.04  \n",
      "Optimizer terminated. Time: 0.04    \n",
      "\n",
      "Optimal solution found\n"
     ]
    }
   ],
   "source": [
    "using JuMP\n",
    "using MosekTools\n",
    "\n",
    "\n",
    "# Model initialization\n",
    "model = Model(Mosek.Optimizer)\n",
    "\n",
    "# Variables\n",
    "@variable(model, x_a[a in A] >= 0)\n",
    "@variable(model, mu_a[a in A] >= 0)\n",
    "@variable(model, theta_a[a in A] >= 0)\n",
    "@variable(model, u_a[a in A] >= 0)\n",
    "\n",
    "@variable(model, v_p[(od, p) in [(od, p) for od in ods for p in keys(P[od])]] >= 0)\n",
    "\n",
    "\n",
    "# Objective function\n",
    "@objective(model, Min, sum(t0_a[a] * x_a[a] + (t0_a[a] * alpha / (beta+1)/ c_a[a]) * mu_a[a] for a in A))\n",
    "\n",
    "# # Constraint: Sum of v_p over paths in P_{od} equals 1 for each origin-destination pair\n",
    "@constraint(model, [od in ods], sum(v_p[(od, p)] for p in keys(P[od])) == 1)\n",
    "\n",
    "# Constraint: x_a equals the sum of d_{od} * v_p over all o, d, and paths that include arc a\n",
    "@constraint(model, [a in A], x_a[a] == sum(d_od[od] * v_p[(od, p)] for od in ods for p in keys(P[od]) if is_continuous_subsequence(a,P[od][p])))\n",
    "\n",
    "\n",
    "# Constraints\n",
    "for a in A\n",
    "    @constraint(model, [2 * x_a[a], theta_a[a] - 1, theta_a[a] + 1] in SecondOrderCone())\n",
    "    @constraint(model, [2 * theta_a[a], u_a[a] - x_a[a], u_a[a] + x_a[a]] in SecondOrderCone())\n",
    "    @constraint(model, [2 * u_a[a], mu_a[a] - x_a[a], mu_a[a] + x_a[a]] in SecondOrderCone())\n",
    "end\n",
    "\n",
    "# Solve the model\n",
    "optimize!(model)\n",
    "\n",
    "# Check the status of the solution\n",
    "status = termination_status(model)\n",
    "\n",
    "if status == MOI.OPTIMAL\n",
    "    # Extracting the solution\n",
    "    x_a_solution = value.(x_a)\n",
    "    mu_a_solution = value.(mu_a)\n",
    "    theta_a_solution = value.(theta_a)\n",
    "    u_a_solution = value.(u_a)\n",
    "    v_p_solution = value.(v_p)\n",
    "    println(\"Optimal solution found\")\n",
    "    # You can print or use the solutions as needed\n",
    "else\n",
    "    println(\"Problem status: $status\")\n",
    "end\n"
   ]
  }
 ],
 "metadata": {
  "kernelspec": {
   "display_name": "Julia 1.10.0",
   "language": "julia",
   "name": "julia-1.10"
  },
  "language_info": {
   "file_extension": ".jl",
   "mimetype": "application/julia",
   "name": "julia",
   "version": "1.10.0"
  }
 },
 "nbformat": 4,
 "nbformat_minor": 2
}
